{
 "cells": [
  {
   "cell_type": "code",
   "execution_count": 2,
   "id": "subsequent-observer",
   "metadata": {},
   "outputs": [
    {
     "name": "stdout",
     "output_type": "stream",
     "text": [
      "(450, 4004) (129, 4004) 4003\n"
     ]
    }
   ],
   "source": [
    "import numpy as np\n",
    "\n",
    "def get_data(filename):\n",
    "    result = []\n",
    "    with open(filename, \"r\") as fp:\n",
    "        for line in fp:\n",
    "            result.append(list(map(lambda x: float(x), line.rstrip().split(\" \"))))\n",
    "            \n",
    "    return np.array(result)\n",
    "\n",
    "def get_dictionary():\n",
    "    result = []\n",
    "    with open(\"pa5dictionary.txt\") as fp:\n",
    "        for line in fp:\n",
    "            result.append(line.rstrip())\n",
    "    return result\n",
    "\n",
    "training_data = get_data(\"pa5train.txt\")\n",
    "test_data = get_data(\"pa5test.txt\")\n",
    "dictionary = get_dictionary()\n",
    "\n",
    "print(training_data.shape, test_data.shape, len(dictionary))"
   ]
  },
  {
   "cell_type": "code",
   "execution_count": 3,
   "id": "completed-stock",
   "metadata": {},
   "outputs": [
    {
     "ename": "SyntaxError",
     "evalue": "unexpected EOF while parsing (<ipython-input-3-ba364f6a6f94>, line 35)",
     "output_type": "error",
     "traceback": [
      "\u001b[0;36m  File \u001b[0;32m\"<ipython-input-3-ba364f6a6f94>\"\u001b[0;36m, line \u001b[0;32m35\u001b[0m\n\u001b[0;31m    \u001b[0m\n\u001b[0m    ^\u001b[0m\n\u001b[0;31mSyntaxError\u001b[0m\u001b[0;31m:\u001b[0m unexpected EOF while parsing\n"
     ]
    }
   ],
   "source": [
    "\n",
    "\n",
    "\n",
    "def get_h(i):\n",
    "    def h1(data_set):\n",
    "        \"\"\"\n",
    "        data m * n\n",
    "        \"\"\"\n",
    "        return (-(a[:, i]==0))+a[:,i]\n",
    "    \n",
    "    def h2(data_set):\n",
    "        return ((a[:, i]==0))+(-a[:,i])\n",
    "    \n",
    "def get_error(w, h, data_set):\n",
    "    \"\"\"\n",
    "    w: m*1\n",
    "    h: function h(x), x: m*n, return: m*1\n",
    "    \"\"\"\n",
    "    \n",
    "    \n",
    "\n",
    "def learn(w, data_set):\n",
    "    \"\"\"\n",
    "    m * n+1\n",
    "    \"\"\"\n",
    "    min_error = float('inf')\n",
    "    for i in range(data_set.shape[1]):\n",
    "        h1, h2 = get_h(i)\n",
    "        \n",
    "        error = h1(data_set) \n",
    "        \n",
    "def train(data_set, t):\n",
    "    alpha_list = []\n",
    "    h_list = []\n",
    "    num_features = data_set.shape[1]-1\n",
    "    w = [1/num_features for i in range(num_features)]\n",
    "    \n",
    "    for _ in range(t):\n",
    "        alpha, h = learn(w, data_set)\n",
    "        alpha_list.append(alpha)\n",
    "        h_list.append(h)\n",
    "    \n",
    "    return alpha_list, h_list"
   ]
  },
  {
   "cell_type": "code",
   "execution_count": null,
   "id": "suitable-effect",
   "metadata": {},
   "outputs": [],
   "source": [
    "sdf"
   ]
  }
 ],
 "metadata": {
  "kernelspec": {
   "display_name": "Python 3",
   "language": "python",
   "name": "python3"
  },
  "language_info": {
   "codemirror_mode": {
    "name": "ipython",
    "version": 3
   },
   "file_extension": ".py",
   "mimetype": "text/x-python",
   "name": "python",
   "nbconvert_exporter": "python",
   "pygments_lexer": "ipython3",
   "version": "3.8.5"
  }
 },
 "nbformat": 4,
 "nbformat_minor": 5
}
