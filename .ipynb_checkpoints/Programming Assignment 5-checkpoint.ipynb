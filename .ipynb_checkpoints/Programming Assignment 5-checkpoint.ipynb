{
 "cells": [
  {
   "cell_type": "code",
   "execution_count": 1,
   "metadata": {},
   "outputs": [
    {
     "name": "stdout",
     "output_type": "stream",
     "text": [
      "(450, 4004) (129, 4004) 4003\n"
     ]
    }
   ],
   "source": [
    "import numpy as np\n",
    "\n",
    "def get_data(filename):\n",
    "    result = []\n",
    "    with open(filename, \"r\") as fp:\n",
    "        for line in fp:\n",
    "            result.append(list(map(lambda x: float(x), line.rstrip().split(\" \"))))\n",
    "            \n",
    "    return np.array(result)\n",
    "\n",
    "def get_dictionary():\n",
    "    result = []\n",
    "    with open(\"pa5dictionary.txt\") as fp:\n",
    "        for line in fp:\n",
    "            result.append(line.rstrip())\n",
    "    return result\n",
    "\n",
    "training_data = get_data(\"pa5train.txt\")\n",
    "test_data = get_data(\"pa5test.txt\")\n",
    "dictionary = get_dictionary()\n",
    "\n",
    "print(training_data.shape, test_data.shape, len(dictionary))"
   ]
  },
  {
   "cell_type": "code",
   "execution_count": 29,
   "metadata": {},
   "outputs": [],
   "source": [
    "import math\n",
    "    \n",
    "def get_h(i):\n",
    "    def h1(data_set):\n",
    "        \"\"\"\n",
    "        data m * n\n",
    "        \"\"\"\n",
    "        return ((-1)*(data_set[:, i]==0))+data_set[:,i]\n",
    "    \n",
    "    def h2(data_set):\n",
    "        return (data_set[:, i]==0)+((-1)*data_set[:,i])\n",
    "    \n",
    "    return h1, h2\n",
    "    \n",
    "\n",
    "def learn(w, data_set):\n",
    "    \"\"\"\n",
    "    w: m * 1\n",
    "    m * n+1\n",
    "    \"\"\"\n",
    "    result = dict()\n",
    "    result['error'] = float('inf')\n",
    "    result['h'] = None\n",
    "    \n",
    "    for i in range(data_set.shape[1]):\n",
    "        h1, h2 = get_h(i)\n",
    "        #print(w.shape, data_set[:, -1].shape, h1(data_set).shape)\n",
    "        error1 = ((h1(data_set) == data_set[:, -1])*w).sum()\n",
    "        error2 = ((h2(data_set) == data_set[:, -1])*w).sum()\n",
    "        if error1 < result['error']:\n",
    "            result['h'] = h1\n",
    "            result['error'] = error1\n",
    "            result['index'] = i\n",
    "            result['h_type'] = 1\n",
    "        elif error2 < result['error']:\n",
    "            result['h'] = h2\n",
    "            result['error'] = error2\n",
    "            result['index'] = i\n",
    "            result['h_type'] = 2\n",
    "    result['alpha'] = 1/2 * math.log((1-result['error'])/result['error'])\n",
    "    \n",
    "    D = w*math.e**(-result['alpha']*data_set[:, -1]*result['h'](data_set))\n",
    "    Z = D.sum()\n",
    "    print(Z)\n",
    "    result['new_w'] = D/Z\n",
    "\n",
    "    return result\n",
    "\n",
    "        \n",
    "def train(data_set, t):\n",
    "    result_list = []\n",
    "    num_data = data_set.shape[0]\n",
    "    w = np.array([1/num_data for i in range(num_data)]).reshape(num_data, 1)\n",
    "    \n",
    "    for _ in range(t):\n",
    "        result_list.append(learn(w, data_set))\n",
    "    \n",
    "    return result_list"
   ]
  },
  {
   "cell_type": "code",
   "execution_count": 30,
   "metadata": {},
   "outputs": [
    {
     "name": "stderr",
     "output_type": "stream",
     "text": [
      "/data/data/com.termux/files/usr/lib/python3.7/site-packages/ipykernel_launcher.py:40: RuntimeWarning: divide by zero encountered in double_scalars\n",
      "/data/data/com.termux/files/usr/lib/python3.7/site-packages/ipykernel_launcher.py:45: RuntimeWarning: invalid value encountered in true_divide\n"
     ]
    },
    {
     "name": "stdout",
     "output_type": "stream",
     "text": [
      "inf\n",
      "inf\n",
      "inf\n",
      "inf\n",
      "[{'error': 0.0, 'h': <function get_h.<locals>.h2 at 0x7422b68bf8>, 'index': 4003, 'h_type': 2, 'alpha': inf, 'new_w': array([[nan, nan, nan, ..., nan, nan, nan],\n",
      "       [nan, nan, nan, ..., nan, nan, nan],\n",
      "       [nan, nan, nan, ..., nan, nan, nan],\n",
      "       ...,\n",
      "       [nan, nan, nan, ..., nan, nan, nan],\n",
      "       [nan, nan, nan, ..., nan, nan, nan],\n",
      "       [nan, nan, nan, ..., nan, nan, nan]])}, {'error': 0.0, 'h': <function get_h.<locals>.h2 at 0x742635b268>, 'index': 4003, 'h_type': 2, 'alpha': inf, 'new_w': array([[nan, nan, nan, ..., nan, nan, nan],\n",
      "       [nan, nan, nan, ..., nan, nan, nan],\n",
      "       [nan, nan, nan, ..., nan, nan, nan],\n",
      "       ...,\n",
      "       [nan, nan, nan, ..., nan, nan, nan],\n",
      "       [nan, nan, nan, ..., nan, nan, nan],\n",
      "       [nan, nan, nan, ..., nan, nan, nan]])}, {'error': 0.0, 'h': <function get_h.<locals>.h2 at 0x742635b378>, 'index': 4003, 'h_type': 2, 'alpha': inf, 'new_w': array([[nan, nan, nan, ..., nan, nan, nan],\n",
      "       [nan, nan, nan, ..., nan, nan, nan],\n",
      "       [nan, nan, nan, ..., nan, nan, nan],\n",
      "       ...,\n",
      "       [nan, nan, nan, ..., nan, nan, nan],\n",
      "       [nan, nan, nan, ..., nan, nan, nan],\n",
      "       [nan, nan, nan, ..., nan, nan, nan]])}, {'error': 0.0, 'h': <function get_h.<locals>.h2 at 0x7422b86598>, 'index': 4003, 'h_type': 2, 'alpha': inf, 'new_w': array([[nan, nan, nan, ..., nan, nan, nan],\n",
      "       [nan, nan, nan, ..., nan, nan, nan],\n",
      "       [nan, nan, nan, ..., nan, nan, nan],\n",
      "       ...,\n",
      "       [nan, nan, nan, ..., nan, nan, nan],\n",
      "       [nan, nan, nan, ..., nan, nan, nan],\n",
      "       [nan, nan, nan, ..., nan, nan, nan]])}]\n"
     ]
    }
   ],
   "source": [
    "result = train(training_data, 4)\n",
    "print(result)\n"
   ]
  },
  {
   "cell_type": "code",
   "execution_count": null,
   "metadata": {},
   "outputs": [],
   "source": []
  }
 ],
 "metadata": {
  "kernelspec": {
   "display_name": "Python 3",
   "language": "python",
   "name": "python3"
  },
  "language_info": {
   "codemirror_mode": {
    "name": "ipython",
    "version": 3
   },
   "file_extension": ".py",
   "mimetype": "text/x-python",
   "name": "python",
   "nbconvert_exporter": "python",
   "pygments_lexer": "ipython3",
   "version": "3.7.3"
  }
 },
 "nbformat": 4,
 "nbformat_minor": 5
}
